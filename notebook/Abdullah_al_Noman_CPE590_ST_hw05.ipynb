{
  "cells": [
    {
      "cell_type": "markdown",
      "metadata": {
        "id": "jfE1Hbwcdel3"
      },
      "source": [
        "# HW05\n",
        "## ABDULLAH AL NOMAN\n",
        "### an0652@uah.edu"
      ]
    },
    {
      "cell_type": "markdown",
      "metadata": {
        "id": "m3wm9QN3dm8H"
      },
      "source": [
        "## Practice"
      ]
    },
    {
      "cell_type": "markdown",
      "metadata": {
        "id": "jFFCD2gDdq8J"
      },
      "source": [
        "### 1. Machine Learning Deployment for MNIST Dataset"
      ]
    },
    {
      "cell_type": "markdown",
      "metadata": {
        "id": "yMwU3P4zdyPF"
      },
      "source": [
        "#### 1.1 Convolutional Neural Network for MNIST Dataset"
      ]
    },
    {
      "cell_type": "markdown",
      "source": [
        "##### 1. Dataset normalization"
      ],
      "metadata": {
        "id": "tem6J5g66T9H"
      }
    },
    {
      "cell_type": "code",
      "source": [
        "# installing onnx, onnxruntime\n",
        "!pip install --quiet onnx onnxruntime\n",
        "\n",
        "# importing required packages\n",
        "import torch\n",
        "import torch.nn as nn\n",
        "import torch.optim as optim\n",
        "from torch.optim.lr_scheduler import StepLR\n",
        "from torchvision import datasets, transforms\n",
        "from torch.utils.data import random_split, DataLoader\n",
        "import onnx, onnxruntime as ort\n",
        "import numpy as np\n",
        "import matplotlib.pyplot as plt\n",
        "\n",
        "# data transformation\n",
        "transform = transforms.Compose([\n",
        "    transforms.ToTensor(),\n",
        "])\n",
        "\n",
        "# downloading the full MNIST training dataset and applying the transformation\n",
        "full_mnist = datasets.MNIST(root=\".\", download=True, train=True, transform=transform)"
      ],
      "metadata": {
        "colab": {
          "base_uri": "https://localhost:8080/"
        },
        "id": "kKVbA3rK6TUI",
        "outputId": "fd248a62-3e1e-4e78-e5bd-b569424f89a8"
      },
      "execution_count": 1,
      "outputs": [
        {
          "output_type": "stream",
          "name": "stdout",
          "text": [
            "\u001b[2K   \u001b[90m━━━━━━━━━━━━━━━━━━━━━━━━━━━━━━━━━━━━━━━━\u001b[0m \u001b[32m16.0/16.0 MB\u001b[0m \u001b[31m28.6 MB/s\u001b[0m eta \u001b[36m0:00:00\u001b[0m\n",
            "\u001b[2K   \u001b[90m━━━━━━━━━━━━━━━━━━━━━━━━━━━━━━━━━━━━━━━━\u001b[0m \u001b[32m16.0/16.0 MB\u001b[0m \u001b[31m22.0 MB/s\u001b[0m eta \u001b[36m0:00:00\u001b[0m\n",
            "\u001b[2K   \u001b[90m━━━━━━━━━━━━━━━━━━━━━━━━━━━━━━━━━━━━━━━━\u001b[0m \u001b[32m46.0/46.0 kB\u001b[0m \u001b[31m1.4 MB/s\u001b[0m eta \u001b[36m0:00:00\u001b[0m\n",
            "\u001b[2K   \u001b[90m━━━━━━━━━━━━━━━━━━━━━━━━━━━━━━━━━━━━━━━━\u001b[0m \u001b[32m86.8/86.8 kB\u001b[0m \u001b[31m3.9 MB/s\u001b[0m eta \u001b[36m0:00:00\u001b[0m\n",
            "\u001b[?25h"
          ]
        },
        {
          "output_type": "stream",
          "name": "stderr",
          "text": [
            "100%|██████████| 9.91M/9.91M [00:00<00:00, 12.8MB/s]\n",
            "100%|██████████| 28.9k/28.9k [00:00<00:00, 343kB/s]\n",
            "100%|██████████| 1.65M/1.65M [00:00<00:00, 3.19MB/s]\n",
            "100%|██████████| 4.54k/4.54k [00:00<00:00, 6.39MB/s]\n"
          ]
        }
      ]
    },
    {
      "cell_type": "markdown",
      "source": [
        "##### 2. Dataset division into training and test cases"
      ],
      "metadata": {
        "id": "N7Kr1hC96zGA"
      }
    },
    {
      "cell_type": "code",
      "source": [
        "train_len   = int(len(full_mnist) * 2/3)\n",
        "test_len    = len(full_mnist) - train_len # 1/3 for testing\n",
        "train_set, test_set = random_split(full_mnist, [train_len, test_len]) # splitting\n",
        "\n",
        "# batch size setting for training and testing\n",
        "batch_size = 128\n",
        "\n",
        "# creating dataloader for training set\n",
        "train_loader = DataLoader(\n",
        "    train_set,\n",
        "    batch_size=batch_size,\n",
        "    shuffle=True,\n",
        "    num_workers=2,\n",
        "    pin_memory=True)\n",
        "\n",
        "# creating dataloader for testing set\n",
        "test_loader  = DataLoader(\n",
        "    test_set,\n",
        "    batch_size=batch_size,\n",
        "    shuffle=False,\n",
        "    num_workers=2,\n",
        "    pin_memory=True)"
      ],
      "metadata": {
        "id": "AVAxyBcO60VG"
      },
      "execution_count": 2,
      "outputs": []
    },
    {
      "cell_type": "markdown",
      "source": [
        "##### 3. CNN model implementation"
      ],
      "metadata": {
        "id": "ESr2wBrz7Lf1"
      }
    },
    {
      "cell_type": "code",
      "source": [
        "# defining CNN for MNIST classification\n",
        "class MNIST_CNN(nn.Module):\n",
        "    def __init__(self):\n",
        "        super().__init__()\n",
        "\n",
        "        # feature extractions\n",
        "        self.features = nn.Sequential(\n",
        "            nn.Conv2d(1, 32, kernel_size=3),\n",
        "            nn.ReLU(inplace=True),\n",
        "            nn.MaxPool2d(2),\n",
        "\n",
        "            nn.Conv2d(32, 64, kernel_size=3),\n",
        "            nn.ReLU(inplace=True),\n",
        "            nn.MaxPool2d(2),\n",
        "        )\n",
        "\n",
        "        # classifier for fully connected layers\n",
        "        self.classifier = nn.Sequential(\n",
        "            nn.Flatten(),\n",
        "            nn.Linear(1600, 128),\n",
        "            nn.ReLU(inplace=True),\n",
        "            nn.Dropout(p=0.5),\n",
        "            nn.Linear(128, 10)\n",
        "        )\n",
        "\n",
        "    # defining how input flows through the model using forward pass\n",
        "    def forward(self, x):\n",
        "        x = self.features(x)\n",
        "        x = self.classifier(x)\n",
        "        return x\n",
        "\n",
        "# set device to GPU if available, else CPU\n",
        "device = torch.device(\"cuda\" if torch.cuda.is_available() else \"cpu\")\n",
        "model  = MNIST_CNN().to(device) # initialize the model"
      ],
      "metadata": {
        "id": "dLObbq_p7LOJ"
      },
      "execution_count": 3,
      "outputs": []
    },
    {
      "cell_type": "markdown",
      "source": [
        "##### 4. Choosing learning rate, optimizer"
      ],
      "metadata": {
        "id": "nGd1C9_57niG"
      }
    },
    {
      "cell_type": "code",
      "source": [
        "# training configuration\n",
        "epochs       = 10\n",
        "lr           = 1e-3\n",
        "criterion    = nn.CrossEntropyLoss() # loss function\n",
        "optimizer    = optim.Adam(model.parameters(), lr=lr) # optimizer"
      ],
      "metadata": {
        "id": "rtr8vBqF7nZ3"
      },
      "execution_count": 4,
      "outputs": []
    },
    {
      "cell_type": "markdown",
      "source": [
        "##### 5. BONUS: Learning rate scheduler implementation"
      ],
      "metadata": {
        "id": "zeWvFEG_7918"
      }
    },
    {
      "cell_type": "code",
      "source": [
        "# lr scheduler decays the learning rate by gamma every 3 epochs\n",
        "scheduler = StepLR(optimizer, step_size=3, gamma=0.3)\n",
        "\n",
        "# function to run a single epoch\n",
        "def run_epoch(loader, train=True):\n",
        "    model.train(mode=train)\n",
        "    total_loss, correct, total = 0, 0, 0\n",
        "\n",
        "    for x, y in loader:\n",
        "        x, y = x.to(device), y.to(device)\n",
        "\n",
        "        if train:\n",
        "            optimizer.zero_grad()\n",
        "\n",
        "        logits = model(x)\n",
        "        loss   = criterion(logits, y)\n",
        "\n",
        "        if train:\n",
        "            loss.backward()\n",
        "            optimizer.step()\n",
        "\n",
        "        # accumulating loss and accuracy\n",
        "        total_loss += loss.item() * x.size(0)\n",
        "        preds = logits.argmax(dim=1)\n",
        "        correct += (preds == y).sum().item()\n",
        "        total   += y.size(0)\n",
        "\n",
        "    # returning avg loss and accuracy\n",
        "    return total_loss / total, correct / total\n",
        "\n",
        "# loops for multiple epoches\n",
        "for epoch in range(1, epochs+1):\n",
        "    train_loss, train_acc = run_epoch(train_loader, train=True)\n",
        "    test_loss,  test_acc  = run_epoch(test_loader,  train=False)\n",
        "    scheduler.step()\n",
        "\n",
        "    # displaying results\n",
        "    print(f\"Epoch {epoch:02d} | \"\n",
        "          f\"Train Loss {train_loss:.4f} Acc {train_acc:.3f} | \"\n",
        "          f\"Test Loss {test_loss:.4f}  Acc {test_acc:.3f}\")"
      ],
      "metadata": {
        "colab": {
          "base_uri": "https://localhost:8080/"
        },
        "id": "JydoRJjG79si",
        "outputId": "c1344f22-979c-4960-dc68-7c22ca7a7b18"
      },
      "execution_count": 5,
      "outputs": [
        {
          "output_type": "stream",
          "name": "stdout",
          "text": [
            "Epoch 01 | Train Loss 0.4514 Acc 0.860 | Test Loss 0.1103  Acc 0.967\n",
            "Epoch 02 | Train Loss 0.1359 Acc 0.960 | Test Loss 0.0773  Acc 0.976\n",
            "Epoch 03 | Train Loss 0.0990 Acc 0.971 | Test Loss 0.0609  Acc 0.981\n",
            "Epoch 04 | Train Loss 0.0734 Acc 0.979 | Test Loss 0.0520  Acc 0.984\n",
            "Epoch 05 | Train Loss 0.0650 Acc 0.981 | Test Loss 0.0497  Acc 0.985\n",
            "Epoch 06 | Train Loss 0.0597 Acc 0.983 | Test Loss 0.0467  Acc 0.986\n",
            "Epoch 07 | Train Loss 0.0526 Acc 0.984 | Test Loss 0.0466  Acc 0.986\n",
            "Epoch 08 | Train Loss 0.0502 Acc 0.985 | Test Loss 0.0459  Acc 0.986\n",
            "Epoch 09 | Train Loss 0.0499 Acc 0.985 | Test Loss 0.0453  Acc 0.987\n",
            "Epoch 10 | Train Loss 0.0462 Acc 0.987 | Test Loss 0.0455  Acc 0.986\n"
          ]
        }
      ]
    },
    {
      "cell_type": "markdown",
      "source": [
        "##### 6. Saving the model as ONNX format"
      ],
      "metadata": {
        "id": "Xn8GrHLx8IAy"
      }
    },
    {
      "cell_type": "code",
      "source": [
        "dummy = torch.randn(1, 1, 28, 28, device=device)\n",
        "onnx_path = \"mnist_cnn.onnx\" # setting putput path\n",
        "\n",
        "# exporting the trained model to ONNX format\n",
        "torch.onnx.export(\n",
        "    model,\n",
        "    dummy,\n",
        "    onnx_path,\n",
        "    input_names=['input'],\n",
        "    output_names=['logits'],\n",
        "    dynamic_axes={\n",
        "        'input': {0: 'batch'},\n",
        "        'logits': {0: 'batch'}\n",
        "    },\n",
        "    opset_version=13\n",
        ")\n",
        "\n",
        "# displaying export message\n",
        "print(f\"ONNX model saved to {onnx_path}\")"
      ],
      "metadata": {
        "colab": {
          "base_uri": "https://localhost:8080/"
        },
        "id": "Ba91dSKG8H3F",
        "outputId": "fdd93830-6629-4205-b920-a5ed8fe4f587"
      },
      "execution_count": 6,
      "outputs": [
        {
          "output_type": "stream",
          "name": "stdout",
          "text": [
            "ONNX model saved to mnist_cnn.onnx\n"
          ]
        }
      ]
    },
    {
      "cell_type": "markdown",
      "source": [
        "##### 7. Loading the ONNX model and testing"
      ],
      "metadata": {
        "id": "4Bdxsd7m8bvJ"
      }
    },
    {
      "cell_type": "code",
      "source": [
        "# loading the exported ONNX model using ONNX Runtime\n",
        "ort_sess = ort.InferenceSession(onnx_path, providers=['CPUExecutionProvider'])\n",
        "\n",
        "# picking 5 random samples from the test_set\n",
        "idx = torch.randint(0, len(test_set), (5,))\n",
        "images, labels = zip(*[test_set[i] for i in idx])\n",
        "images = torch.stack(images)        # (5,1,28,28)\n",
        "labels = torch.tensor(labels)\n",
        "\n",
        "# run inference on the selected images\n",
        "logits = ort_sess.run(None, {'input': images.numpy()})[0]\n",
        "preds  = torch.tensor(logits).argmax(dim=1)\n",
        "\n",
        "# visual checking\n",
        "fig, axs = plt.subplots(1, 5, figsize=(12,2))\n",
        "for i,(img, gt, pd) in enumerate(zip(images, labels, preds)):\n",
        "    axs[i].imshow(img.squeeze(), cmap='gray')\n",
        "    axs[i].set_title(f\"GT:{gt}  Pred:{pd}\", color=(\"green\" if gt==pd else \"red\"))\n",
        "    axs[i].axis('off')\n",
        "plt.show() # display"
      ],
      "metadata": {
        "colab": {
          "base_uri": "https://localhost:8080/",
          "height": 193
        },
        "id": "O-pg7OUA8bmP",
        "outputId": "de5880ca-a39f-4cfe-a388-3ea44ccc7917"
      },
      "execution_count": 7,
      "outputs": [
        {
          "output_type": "display_data",
          "data": {
            "text/plain": [
              "<Figure size 1200x200 with 5 Axes>"
            ],
            "image/png": "[encoded data removed]"
          },
          "metadata": {}
        }
      ]
    },
    {
      "cell_type": "markdown",
      "metadata": {
        "id": "332aQ072d5Tv"
      },
      "source": [
        "#### 1.2 Developing Flask based Web Applications"
      ]
    },
    {
      "cell_type": "markdown",
      "source": [
        "$Please$ $refer$ $to$ $my$ $GitHub$ $repository$ $below.$\n",
        "- https://github.com/NomanAbdullah/Abdullah-Flask-Web-Application"
      ],
      "metadata": {
        "id": "XS6vxKKyPL5C"
      }
    }
  ],
  "metadata": {
    "colab": {
      "provenance": []
    },
    "kernelspec": {
      "display_name": "Python 3",
      "name": "python3"
    },
    "language_info": {
      "name": "python"
    }
  },
  "nbformat": 4,
  "nbformat_minor": 0
}